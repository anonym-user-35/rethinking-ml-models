{
  "nbformat": 4,
  "nbformat_minor": 0,
  "metadata": {
    "colab": {
      "name": "value_analysis_binary.ipynb",
      "provenance": [],
      "collapsed_sections": []
    },
    "kernelspec": {
      "name": "python3",
      "display_name": "Python 3"
    },
    "language_info": {
      "name": "python"
    }
  },
  "cells": [
    {
      "cell_type": "code",
      "metadata": {
        "id": "ISOHWDbjRl0A"
      },
      "source": [
        "!pip install sklearn"
      ],
      "execution_count": null,
      "outputs": []
    },
    {
      "cell_type": "code",
      "metadata": {
        "id": "DeTUOfSQSHPD"
      },
      "source": [
        "import numpy as np\n",
        "import pandas as pd\n",
        "import matplotlib.pyplot as plt"
      ],
      "execution_count": null,
      "outputs": []
    },
    {
      "cell_type": "code",
      "metadata": {
        "id": "SlHi5AI8SKAx"
      },
      "source": [
        "#cost-based parameters\n",
        "Vr = 0.0\n",
        "Vc = 1.0\n",
        "\n",
        "Vw_list_fn = list(np.arange(0, -10.1, -0.1))\n",
        "Vw_list_fp = list(np.arange(0, -10.1, -0.1))\n",
        "\n",
        "confT_list = list(np.arange(0, 1.02, 0.01))"
      ],
      "execution_count": null,
      "outputs": []
    },
    {
      "cell_type": "code",
      "metadata": {
        "id": "GPwQJ-5qSa6q"
      },
      "source": [
        "# example code for clickbait dataset\n",
        "path = '.../clickbait/'\n",
        "res_path = '.../clickbait/res/'\n",
        "resFileName1 = \"clickbait-model1_vectorized\"\n",
        "resFileName2 = \"clickbait-model2_vectorized\"\n",
        "resFileName3 = \"clickbait-model3_vectorized\"\n",
        "resFileName4 = \"clickbait-model4_vectorized\"\n",
        "\n",
        "proba_val_pd_1 = pd.read_csv(path + 'logits/logits_validation_1.csv', header=None)\n",
        "proba_val_1 = proba_val_pd_1.to_numpy()\n",
        "proba_test_pd_1 = pd.read_csv(path + 'logits/logits_test_1.csv', header=None)\n",
        "proba_test_1 = proba_test_pd_1.to_numpy()\n",
        "\n",
        "proba_val_pd_2 = pd.read_csv(path + 'logits/logits_validation_2.csv', header=None)\n",
        "proba_val_2 = proba_val_pd_2.to_numpy()\n",
        "proba_test_pd_2 = pd.read_csv(path + 'logits/logits_test_2.csv', header=None)\n",
        "proba_test_2 = proba_test_pd_2.to_numpy()\n",
        "\n",
        "proba_val_pd_3 = pd.read_csv(path + 'logits/logits_validation_3.csv', header=None)\n",
        "proba_val_3 = proba_val_pd_3.to_numpy()\n",
        "proba_test_pd_3 = pd.read_csv(path + 'logits/logits_test_3.csv', header=None)\n",
        "proba_test_3 = proba_test_pd_3.to_numpy()\n",
        "\n",
        "proba_val_pd_4 = pd.read_csv(path + 'logits/logits_validation_4.csv', header=None)\n",
        "proba_val_4 = proba_val_pd_4.to_numpy()\n",
        "proba_test_pd_4 = pd.read_csv(path + 'logits/logits_test_4.csv', header=None)\n",
        "proba_test_4 = proba_test_pd_4.to_numpy()\n",
        "\n",
        "y_val_pd = pd.read_csv(path + 'groundTruth/groundTruth_validation.csv', header=None)\n",
        "y_val = y_val_pd[0].to_numpy().astype(int)\n",
        "y_test_pd = pd.read_csv(path + 'groundTruth/groundTruth_test.csv', header=None)\n",
        "y_test = y_test_pd[0].to_numpy().astype(int)"
      ],
      "execution_count": null,
      "outputs": []
    },
    {
      "cell_type": "code",
      "metadata": {
        "id": "XK1wDvSfSiwx"
      },
      "source": [
        "def cost_based_threshold(k):\n",
        "    t = (k)/(k+1)\n",
        "    return t\n",
        "\n",
        "def calculate_value(y_hat_proba, y, t_fp, V_fp, t_fn, V_fn, Vc, Vr):\n",
        "    prob_positive = y_hat_proba[:,1]\n",
        "    prob_negative = y_hat_proba[:,0]\n",
        "\n",
        "    y_pred_pos = np.full(prob_positive.shape[0],-1) \n",
        "    y_pred_neg = np.full(prob_negative.shape[0],-1) \n",
        "\n",
        "    y_pred_pos[prob_positive >= t_fp] = 1\n",
        "    y_pred_neg[prob_negative >= t_fn] = 0\n",
        "\n",
        "    max_prob_indices = list(np.argmax(y_hat_proba, axis=1))\n",
        "\n",
        "    y_pred = np.array([y_pred_neg[i] if max_prob_indices[i] == 0 else y_pred_pos[i] for i in range(len(max_prob_indices))])\n",
        "\n",
        "    # now lets compute the actual value of each prediction\n",
        "    value_vector = np.full(y_pred.shape[0], Vc)\n",
        "\n",
        "    #loss due to asking humans\n",
        "    value_vector[y_pred == -1] = Vr\n",
        "\n",
        "    #loss due to false positives and false negatives\n",
        "    false_positives_idx = (y_pred == 1) & ( y == 0)\n",
        "    false_negatives_idx = (y_pred == 0) & ( y == 1)\n",
        "\n",
        "    value_vector[false_positives_idx] = V_fp\n",
        "    value_vector[false_negatives_idx] = V_fn\n",
        "\n",
        "    value = np.sum(value_vector) / len(y)\n",
        "\n",
        "    return value\n",
        "\n",
        "def find_optimum_confidence_threshold(y_hat_proba, y, t_list, Vw_fp, Vw_fn, Vc, Vr):\n",
        "\n",
        "    cost_list = {}\n",
        "\n",
        "    for t_fp in t_list:\n",
        "        for t_fn in t_list:\n",
        "            # here we define K = fn_c_norm, change it based on task. \n",
        "            value = calculate_value(y_hat_proba, y, t_fp, Vw_fp, t_fn, Vw_fn, Vc, Vr)\n",
        "            cost_list[\"{}_{}\".format(t_fp,t_fn)] = value\n",
        "    # find t values with maximum value\n",
        "    maxValue = max(cost_list.values())\n",
        "    optTList = [[float(k.split('_')[0]),float(k.split('_')[1])] for k, v in cost_list.items() if v == maxValue]\n",
        "    return optTList[0], cost_list\n",
        "\n",
        "#cost based calibration analysis\n",
        "def cost_based_analysis(y_hat_proba_val, y_val, y_hat_proba_test, y_test, res_path, logfile_name, Vr, Vc, Vw_list_fp, Vw_list_fn, confT_list):\n",
        "\n",
        "    # create log file\n",
        "    rc_path = res_path + logfile_name + \"_costBased_test.csv\"\n",
        "    with open(rc_path, 'w') as f:\n",
        "        c = 'Vr, Vc, Vw_fp, Vw_fn, k_fp, k_fn, t_fp, t_fn, value, t_optimal_fp, t_optimal_fn, value_optimal'\n",
        "        f.write(c + '\\n')\n",
        "\n",
        "    for Vw_fp in Vw_list_fp:\n",
        "        for Vw_fn in Vw_list_fn:\n",
        "            k_fp = (-1)*(Vw_fp / Vc)\n",
        "            k_fn = (-1)*(Vw_fn / Vc)\n",
        "            t_fp = cost_based_threshold(k_fp)\n",
        "            t_fn = cost_based_threshold(k_fn)\n",
        "\n",
        "            value = calculate_value(y_hat_proba_test, y_test, t_fp, Vw_fp, t_fn, Vw_fn, Vc, Vr)\n",
        "            t_optimal, cost_list = find_optimum_confidence_threshold(y_hat_proba_val, y_val, confT_list, Vw_fp, Vw_fn, Vc, Vr)\n",
        "            value_optimal = calculate_value(y_hat_proba_test, y_test, t_optimal[0], Vw_fp, t_optimal[1], Vw_fn, Vc, Vr)\n",
        "\n",
        "            with open(rc_path, 'a') as f:\n",
        "                res_i = '{}, {}, {}, {}, {}, {}, {}, {}, {}, {}, {}, {}\\n'.format(Vr, Vc, Vw_fp, Vw_fn, k_fp, k_fn, t_fp, t_fn, value, t_optimal[0], t_optimal[1], value_optimal)\n",
        "                f.write(res_i)\n",
        "\n",
        "def plot_confidence_hist(dt, name, res_path, bin, figName):\n",
        "\n",
        "    ax = dt.hist(column=name, color='#86bf91', bins=bin)\n",
        "\n",
        "    for x in ax[0]:\n",
        "     #   x.set_title(\"Empirical distibution of confidence on \" + name + \"set\")\n",
        "\n",
        "        # Set x-axis label\n",
        "        x.set_xlabel(\"Confidence\", labelpad=20, weight='bold', size=12)\n",
        "\n",
        "        # Set y-axis label\n",
        "        x.set_ylabel(\"Number of items\", labelpad=20, weight='bold', size=12)\n",
        "\n",
        "    plt.savefig(figName)\n"
      ],
      "execution_count": null,
      "outputs": []
    },
    {
      "cell_type": "code",
      "metadata": {
        "id": "Z1RkiahOSl1v"
      },
      "source": [
        "cost_based_analysis(proba_val_1, y_val, proba_test_1, y_test, res_path, resFileName1, Vr, Vc, Vw, t)"
      ],
      "execution_count": null,
      "outputs": []
    },
    {
      "cell_type": "code",
      "metadata": {
        "id": "QUt6UVwZSstc"
      },
      "source": [
        "cost_based_analysis(proba_val_2, y_val, proba_test_1, y_test, res_path, resFileName1, Vr, Vc, Vw, t)"
      ],
      "execution_count": null,
      "outputs": []
    },
    {
      "cell_type": "code",
      "metadata": {
        "id": "9ewU4vgfSok8"
      },
      "source": [
        "cost_based_analysis(proba_val_3, y_val, proba_test_3, y_test, res_path, resFileName3, Vr, Vc, Vw, t)"
      ],
      "execution_count": null,
      "outputs": []
    },
    {
      "cell_type": "code",
      "metadata": {
        "id": "JEbW1uApSu-f"
      },
      "source": [
        "cost_based_analysis(proba_val_4, y_val, proba_test_3, y_test, res_path, resFileName3, Vr, Vc, Vw, t)"
      ],
      "execution_count": null,
      "outputs": []
    },
    {
      "cell_type": "code",
      "metadata": {
        "id": "HeEUUEKkS0e9"
      },
      "source": [
        "proba_test1_pd = pd.read_csv(path + 'logits/logits_validation_1.csv', header=None).to_numpy()\n",
        "proba_test2_pd = pd.read_csv(path + 'logits/logits_validation_2.csv', header=None).to_numpy()\n",
        "proba_test3_pd = pd.read_csv(path + 'logits/logits_validation_3.csv', header=None).to_numpy()\n",
        "proba_test4_pd = pd.read_csv(path + 'logits/logits_validation_4.csv', header=None).to_numpy()\n",
        "\n",
        "dt_test1 = pd.DataFrame({'val1 ': proba_test1_pd.max(axis=1)})\n",
        "dt_test2 = pd.DataFrame({'val2 ': proba_test2_pd.max(axis=1)})\n",
        "dt_test3 = pd.DataFrame({'val3 ': proba_test3_pd.max(axis=1)})\n",
        "dt_test4 = pd.DataFrame({'val4 ': proba_test4_pd.max(axis=1)})\n",
        "\n",
        "plot_confidence_hist(dt_test1, 'val1 ', res_path, 25, res_path + \"clickbait_1_val_conf.png\")\n",
        "plot_confidence_hist(dt_test2, 'val2 ', res_path, 25, res_path + \"clickbait_2_val_conf.png\")\n",
        "plot_confidence_hist(dt_test3, 'val3 ', res_path, 25, res_path + \"clickbait_3_val_conf.png\")\n",
        "plot_confidence_hist(dt_test4, 'val4 ', res_path, 25, res_path + \"clickbait_4_val_conf.png\")"
      ],
      "execution_count": null,
      "outputs": []
    }
  ]
}