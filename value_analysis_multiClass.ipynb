{
  "nbformat": 4,
  "nbformat_minor": 0,
  "metadata": {
    "colab": {
      "name": "value_analysis_multiClass.ipynb",
      "provenance": [],
      "collapsed_sections": []
    },
    "kernelspec": {
      "name": "python3",
      "display_name": "Python 3"
    },
    "language_info": {
      "name": "python"
    }
  },
  "cells": [
    {
      "cell_type": "code",
      "metadata": {
        "id": "Xhzmy50HQh3-"
      },
      "source": [
        "!pip install sklearn"
      ],
      "execution_count": null,
      "outputs": []
    },
    {
      "cell_type": "code",
      "metadata": {
        "id": "iQe9v_71QlEP"
      },
      "source": [
        "import numpy as np\n",
        "import pandas as pd\n",
        "import matplotlib.pyplot as plt"
      ],
      "execution_count": null,
      "outputs": []
    },
    {
      "cell_type": "code",
      "metadata": {
        "id": "GIQ-IdO-QoEs"
      },
      "source": [
        "#cost-based parameters\n",
        "Vr = 0.0\n",
        "Vc = 1.0\n",
        "Vw_g = list(np.arange(0, -10.1, -0.1))\n",
        "t_g = list(np.arange(0, 1.02, 0.01))\n",
        "\n",
        "#specify the names for the models and the dataset\n",
        "modelName_MLP4 = 'MLP4'\n",
        "modelName_MLP1 = 'MLP1'\n",
        "modelName_log = 'LogReg'\n",
        "datasetName = 'yelp'"
      ],
      "execution_count": null,
      "outputs": []
    },
    {
      "cell_type": "code",
      "metadata": {
        "id": "7BlAKfj0QwD8"
      },
      "source": [
        "#path to your dataset\n",
        "path = '.../yelp/data/'\n",
        "#path to where you want to store results\n",
        "res_path = '.../yelp/res/'\n",
        "resFileNameMLP1 = \"yelp-MLP1_vectorized\"\n",
        "resFileNameMLP4 = \"yelp-MLP4_vectorized\"\n",
        "resFileNameLog = \"yelp-log_vectorized\"\n",
        "\n",
        "proba_val_pd_MLP1 = pd.read_csv(path + 'logits_val_mlp1.csv', header=None)\n",
        "proba_val_MLP1 = proba_val_pd_MLP1.to_numpy()\n",
        "proba_test_pd_MLP1 = pd.read_csv(path + 'logits_test_mlp1.csv', header=None)\n",
        "proba_test_MLP1 = proba_test_pd_MLP1.to_numpy()\n",
        "\n",
        "proba_val_pd_MLP4 = pd.read_csv(path + 'logits_val.csv', header=None)\n",
        "proba_val_MLP4 = proba_val_pd_MLP4.to_numpy()\n",
        "proba_test_pd_MLP4 = pd.read_csv(path + 'logits_test.csv', header=None)\n",
        "proba_test_MLP4 = proba_test_pd_MLP4.to_numpy()\n",
        "\n",
        "proba_val_pd_log = pd.read_csv(path + 'logits_val_log.csv', header=None)\n",
        "proba_val_log = proba_val_pd_log.to_numpy()\n",
        "proba_test_pd_log = pd.read_csv(path + 'logits_test_log.csv', header=None)\n",
        "proba_test_log = proba_test_pd_log.to_numpy()\n",
        "\n",
        "y_val_pd = pd.read_csv(path + 'y_val.csv', header=None)\n",
        "y_val = y_val_pd[0].to_numpy().astype(int)\n",
        "y_test_pd = pd.read_csv(path + 'y_test.csv', header=None)\n",
        "y_test = y_test_pd[0].to_numpy().astype(int)"
      ],
      "execution_count": null,
      "outputs": []
    },
    {
      "cell_type": "code",
      "metadata": {
        "id": "Nf90ctwzRP8r"
      },
      "source": [
        "def cost_based_threshold(k):\n",
        "    t = (k)/(k+1)\n",
        "    return t\n",
        "\n",
        "def calculate_value(y_hat_proba, y, t, Vr, Vc, Vw):\n",
        "\n",
        "    y_pred = np.array([np.where(l == np.amax(l))[0][0] if (np.amax(l) >= t) else -1 for l in y_hat_proba])\n",
        "\n",
        "    # now lets compute the actual value of each prediction\n",
        "    \n",
        "    value_vector = np.full(y_pred.shape[0], Vc)\n",
        "\n",
        "    value_vector[y_pred != y] = Vw\n",
        "    \n",
        "    #loss due to asking humans\n",
        "    value_vector[y_pred == -1] = Vr\n",
        "\n",
        "    value = np.sum(value_vector) / len(y)\n",
        "    return value\n",
        "\n",
        "def find_optimum_confidence_threshold(y_hat_proba, y, t_list, Vr, Vc, Vw):\n",
        "\n",
        "    cost_list = {}\n",
        "\n",
        "    for t in t_list:\n",
        "        # here we define K = fn_c_norm, change it based on task. \n",
        "        value = calculate_value(y_hat_proba, y, t, Vr, Vc, Vw)\n",
        "        cost_list[\"{}\".format(t)] = value\n",
        "    # find t values with maximum value\n",
        "    maxValue = max(cost_list.values())\n",
        "    optTList = [float(k) for k, v in cost_list.items() if v == maxValue]\n",
        "    # pick the one with the lowest confidence\n",
        "    optimumT = min(optTList)\n",
        "\n",
        "    return optimumT, cost_list\n",
        "\n",
        "#cost based calibration analysis\n",
        "def cost_based_analysis(y_hat_proba_val, y_val, y_hat_proba_test, y_test, res_path, logfile_name, Vr, Vc, Vw_list, confT_list):\n",
        "\n",
        "    # create log file\n",
        "    rc_path = res_path + logfile_name + \"_costBased_test.csv\"\n",
        "    with open(rc_path, 'w') as f:\n",
        "        c = 'Vr, Vc, Vw, k, t, value, t_optimal, value_optimal'\n",
        "        f.write(c + '\\n')\n",
        "\n",
        "    for Vw in Vw_list:\n",
        "        #  Vr_norm, Vc_norm, Vw_norm = normalize_value(Vr, Vc, Vw)\n",
        "        #print(\"ch: {}, V: {}, fp_c: {} fn_c: {}\".format(ch_norm, V_norm, fp_c_norm, fn_c_norm))\n",
        "        k = (-1)*(Vw / Vc)\n",
        "        t = cost_based_threshold(k)\n",
        "        value = calculate_value(y_hat_proba_test, y_test, t, Vr, Vc, Vw)\n",
        "\n",
        "        t_optimal, cost_list = find_optimum_confidence_threshold(y_hat_proba_val, y_val, confT_list, Vr, Vc, Vw)\n",
        "        value_optimal = calculate_value(y_hat_proba_test, y_test, t_optimal, Vr, Vc, Vw)\n",
        "\n",
        "        with open(rc_path, 'a') as f:\n",
        "            res_i = '{}, {}, {}, {}, {}, {}, {}, {}\\n'.format(Vr, Vc, Vw, k, t, value, t_optimal, value_optimal)\n",
        "            f.write(res_i)\n",
        "  \n",
        "\n",
        "def plot_confidence_hist(dt, name, res_path, bin, figName):\n",
        "\n",
        "    ax = dt.hist(column=name, color='#86bf91', bins=bin)\n",
        "\n",
        "    for x in ax[0]:\n",
        "     #   x.set_title(\"Empirical distibution of confidence on \" + name + \"set\")\n",
        "\n",
        "        # Set x-axis label\n",
        "        x.set_xlabel(\"Confidence\", labelpad=20, weight='bold', size=12)\n",
        "\n",
        "        # Set y-axis label\n",
        "        x.set_ylabel(\"Number of items\", labelpad=20, weight='bold', size=12)\n",
        "\n",
        "    plt.savefig(figName)"
      ],
      "execution_count": null,
      "outputs": []
    },
    {
      "cell_type": "code",
      "metadata": {
        "id": "Aea9iaCaRSTI"
      },
      "source": [
        "logfile_name = \"{}_{}_vectorized\".format(datasetName,modelName_MLP1) \n",
        "cost_based_analysis(proba_val_MLP1, y_val, proba_test_MLP1, y_test, res_path, logfile_name, Vr, Vc, Vw_g, t_g)"
      ],
      "execution_count": null,
      "outputs": []
    },
    {
      "cell_type": "code",
      "metadata": {
        "id": "v2G7sJWkRYbD"
      },
      "source": [
        "logfile_name = \"{}_{}_vectorized\".format(datasetName,modelName_MLP4) \n",
        "cost_based_analysis(proba_val_MLP4, y_val, proba_test_MLP4, y_test, res_path, logfile_name, Vr, Vc, Vw_g, t_g)"
      ],
      "execution_count": null,
      "outputs": []
    },
    {
      "cell_type": "code",
      "metadata": {
        "id": "kK-yWvSYRY5l"
      },
      "source": [
        "logfile_name = \"{}_{}_vectorized\".format(datasetName,modelName_log) \n",
        "cost_based_analysis(proba_val_log, y_val, proba_test_log, y_test, res_path, logfile_name, Vr, Vc, Vw_g, t_g)"
      ],
      "execution_count": null,
      "outputs": []
    },
    {
      "cell_type": "code",
      "metadata": {
        "id": "jpLMMTdrRbVC"
      },
      "source": [
        "dt_val = pd.DataFrame({'val ': proba_val_MLP4.max(axis=1)})\n",
        "dt_test = pd.DataFrame({'test ': proba_test_MLP4.max(axis=1)})\n",
        "\n",
        "plot_confidence_hist(dt_val, 'val ', res_path, 20, res_path + \"yelp_MLP4_val_conf.png\")\n",
        "plot_confidence_hist(dt_test, 'test ', res_path, 20, res_path + \"yelp_MLP4_test_conf.png\")"
      ],
      "execution_count": null,
      "outputs": []
    }
  ]
}